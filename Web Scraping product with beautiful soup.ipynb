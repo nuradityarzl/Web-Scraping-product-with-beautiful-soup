{
 "cells": [
  {
   "cell_type": "markdown",
   "id": "bee661c5",
   "metadata": {},
   "source": [
    "# Web Scraping product with beautiful soup\n",
    "\n",
    "## Introduction\n",
    "\n",
    "In this project, a Python script has been developed to perform web scraping on a website containing information about whisky products. The purpose of this script is to extract product data from multiple pages of the website and organize it into a data structure that can be further processed. This process involves the use of libraries such as requests for sending HTTP requests, BeautifulSoup for parsing HTML, pandas for data manipulation, and tqdm for providing a progress bar visualization.\n"
   ]
  },
  {
   "cell_type": "markdown",
   "id": "89b2964e",
   "metadata": {},
   "source": [
    "# Import Library"
   ]
  },
  {
   "cell_type": "code",
   "execution_count": 1,
   "id": "ae153452",
   "metadata": {},
   "outputs": [],
   "source": [
    "import requests\n",
    "from bs4 import BeautifulSoup\n",
    "import pandas as pd\n",
    "from tqdm.notebook import tqdm"
   ]
  },
  {
   "cell_type": "markdown",
   "id": "aba0c1e5",
   "metadata": {},
   "source": [
    "## Initialize Variables and List"
   ]
  },
  {
   "cell_type": "code",
   "execution_count": 2,
   "id": "ea6a65a6",
   "metadata": {},
   "outputs": [],
   "source": [
    "all_products = []  # List untuk menyimpan data produk\n",
    "base_url = 'https://minuman.com/id/collections/whisky?page='  # URL dasar situs web"
   ]
  },
  {
   "cell_type": "markdown",
   "id": "a1980d34",
   "metadata": {},
   "source": [
    "* Initialize an empty list all_products to store product data.\n",
    "* Define the base URL of the website to be scraped."
   ]
  },
  {
   "cell_type": "markdown",
   "id": "37e96b92",
   "metadata": {},
   "source": [
    "# Loop Through Pages and Product Data Extraction Loop"
   ]
  },
  {
   "cell_type": "code",
   "execution_count": 4,
   "id": "42779084",
   "metadata": {},
   "outputs": [
    {
     "data": {
      "application/vnd.jupyter.widget-view+json": {
       "model_id": "c28a7534d7b24d20806e6503073163dc",
       "version_major": 2,
       "version_minor": 0
      },
      "text/plain": [
       "Scraping pages:   0%|          | 0/5 [00:00<?, ?it/s]"
      ]
     },
     "metadata": {},
     "output_type": "display_data"
    }
   ],
   "source": [
    "for page_num in tqdm(range(1, 6), desc='Scraping pages'):\n",
    "    page_url = base_url + str(page_num)  # Membuat URL lengkap untuk halaman saat ini\n",
    "    response = requests.get(page_url)   # Mengirim permintaan GET ke URL\n",
    "    soup = BeautifulSoup(response.content, 'html.parser')  # Mengurai konten menggunakan BeautifulSoup\n",
    "    product_containers = soup.find_all('div', class_='product-item')  # Menemukan semua kontainer produk di halaman\n",
    "    \n",
    "    for product in product_containers:\n",
    "        product_name = product.find('a', class_='product-item__title').get_text(strip=True)\n",
    "        product_price = product.find('span', class_='price').get_text(strip=True)\n",
    "        all_products.append({'name': product_name, 'price': product_price})\n",
    "        "
   ]
  },
  {
   "cell_type": "markdown",
   "id": "31271cd8",
   "metadata": {},
   "source": [
    "* Utilize a loop to fetch data from the first five pages.\n",
    "* Build the complete URL for each page.\n",
    "* Send a GET request and parse the content using BeautifulSoup.\n",
    "* Find all product containers on the page with the class 'product-item'.\n",
    "* Iterate through each product container and extract the product name and price.\n",
    "* Append the product data to the all_products list in the form of a dictionary."
   ]
  },
  {
   "cell_type": "markdown",
   "id": "194e4352",
   "metadata": {},
   "source": [
    "# Convert to DataFrame"
   ]
  },
  {
   "cell_type": "code",
   "execution_count": 5,
   "id": "2acf7a40",
   "metadata": {},
   "outputs": [],
   "source": [
    "all_products_df = pd.DataFrame(all_products)\n"
   ]
  },
  {
   "cell_type": "code",
   "execution_count": 6,
   "id": "6ce6c3f1",
   "metadata": {},
   "outputs": [
    {
     "data": {
      "text/html": [
       "<div>\n",
       "<style scoped>\n",
       "    .dataframe tbody tr th:only-of-type {\n",
       "        vertical-align: middle;\n",
       "    }\n",
       "\n",
       "    .dataframe tbody tr th {\n",
       "        vertical-align: top;\n",
       "    }\n",
       "\n",
       "    .dataframe thead th {\n",
       "        text-align: right;\n",
       "    }\n",
       "</style>\n",
       "<table border=\"1\" class=\"dataframe\">\n",
       "  <thead>\n",
       "    <tr style=\"text-align: right;\">\n",
       "      <th></th>\n",
       "      <th>name</th>\n",
       "      <th>price</th>\n",
       "    </tr>\n",
       "  </thead>\n",
       "  <tbody>\n",
       "    <tr>\n",
       "      <th>0</th>\n",
       "      <td>Label 5 - Classic Black - Blended Whisky - 700ml</td>\n",
       "      <td>Sale priceIDR390,000</td>\n",
       "    </tr>\n",
       "    <tr>\n",
       "      <th>1</th>\n",
       "      <td>Bells Original - Blended Whisky - 700ml</td>\n",
       "      <td>Sale priceIDR399,000</td>\n",
       "    </tr>\n",
       "    <tr>\n",
       "      <th>2</th>\n",
       "      <td>Glenfiddich 12yrs - Single Malt Whisky - 700ml</td>\n",
       "      <td>Sale priceIDR1,090,000</td>\n",
       "    </tr>\n",
       "    <tr>\n",
       "      <th>3</th>\n",
       "      <td>Monkey Shoulder - Blended Whisky - 700ml</td>\n",
       "      <td>Sale priceIDR990,000</td>\n",
       "    </tr>\n",
       "    <tr>\n",
       "      <th>4</th>\n",
       "      <td>Grants - Triple Wood - Blended Whisky - 700ml</td>\n",
       "      <td>Sale priceIDR469,000</td>\n",
       "    </tr>\n",
       "    <tr>\n",
       "      <th>...</th>\n",
       "      <td>...</td>\n",
       "      <td>...</td>\n",
       "    </tr>\n",
       "    <tr>\n",
       "      <th>115</th>\n",
       "      <td>Dewars - Japanese Smooth Cask - Blended Whisky...</td>\n",
       "      <td>Sale priceIDR690,000</td>\n",
       "    </tr>\n",
       "    <tr>\n",
       "      <th>116</th>\n",
       "      <td>The Pogues - Blended Whiskey - 700ml</td>\n",
       "      <td>Sale priceIDR690,000</td>\n",
       "    </tr>\n",
       "    <tr>\n",
       "      <th>117</th>\n",
       "      <td>The Macallan - Sir Peter Blake - Single Malt W...</td>\n",
       "      <td>Sale priceIDR41,000,000</td>\n",
       "    </tr>\n",
       "    <tr>\n",
       "      <th>118</th>\n",
       "      <td>Dewars 25yrs - Blended Whisky - 750ml</td>\n",
       "      <td>Sale priceIDR3,490,000</td>\n",
       "    </tr>\n",
       "    <tr>\n",
       "      <th>119</th>\n",
       "      <td>Nikka Taketsuru - Single Malt Whisky - 700ml</td>\n",
       "      <td>Sale priceIDR1,800,000</td>\n",
       "    </tr>\n",
       "  </tbody>\n",
       "</table>\n",
       "<p>120 rows × 2 columns</p>\n",
       "</div>"
      ],
      "text/plain": [
       "                                                  name  \\\n",
       "0     Label 5 - Classic Black - Blended Whisky - 700ml   \n",
       "1              Bells Original - Blended Whisky - 700ml   \n",
       "2       Glenfiddich 12yrs - Single Malt Whisky - 700ml   \n",
       "3             Monkey Shoulder - Blended Whisky - 700ml   \n",
       "4        Grants - Triple Wood - Blended Whisky - 700ml   \n",
       "..                                                 ...   \n",
       "115  Dewars - Japanese Smooth Cask - Blended Whisky...   \n",
       "116               The Pogues - Blended Whiskey - 700ml   \n",
       "117  The Macallan - Sir Peter Blake - Single Malt W...   \n",
       "118              Dewars 25yrs - Blended Whisky - 750ml   \n",
       "119       Nikka Taketsuru - Single Malt Whisky - 700ml   \n",
       "\n",
       "                       price  \n",
       "0       Sale priceIDR390,000  \n",
       "1       Sale priceIDR399,000  \n",
       "2     Sale priceIDR1,090,000  \n",
       "3       Sale priceIDR990,000  \n",
       "4       Sale priceIDR469,000  \n",
       "..                       ...  \n",
       "115     Sale priceIDR690,000  \n",
       "116     Sale priceIDR690,000  \n",
       "117  Sale priceIDR41,000,000  \n",
       "118   Sale priceIDR3,490,000  \n",
       "119   Sale priceIDR1,800,000  \n",
       "\n",
       "[120 rows x 2 columns]"
      ]
     },
     "execution_count": 6,
     "metadata": {},
     "output_type": "execute_result"
    }
   ],
   "source": [
    "all_products_df"
   ]
  },
  {
   "cell_type": "markdown",
   "id": "dab59645",
   "metadata": {},
   "source": [
    "* This script demonstrates the ability to extract data from a website using web scraping techniques.\n",
    "* Successfully retrieved information includes name product, and price of product\n"
   ]
  },
  {
   "cell_type": "code",
   "execution_count": null,
   "id": "9da00517",
   "metadata": {},
   "outputs": [],
   "source": []
  }
 ],
 "metadata": {
  "kernelspec": {
   "display_name": "Python 3 (ipykernel)",
   "language": "python",
   "name": "python3"
  },
  "language_info": {
   "codemirror_mode": {
    "name": "ipython",
    "version": 3
   },
   "file_extension": ".py",
   "mimetype": "text/x-python",
   "name": "python",
   "nbconvert_exporter": "python",
   "pygments_lexer": "ipython3",
   "version": "3.9.17"
  },
  "vp": {
   "vp_config_version": "1.0.0",
   "vp_menu_width": 273,
   "vp_note_display": false,
   "vp_note_width": 0,
   "vp_position": {
    "width": 278
   },
   "vp_section_display": false,
   "vp_signature": "VisualPython"
  }
 },
 "nbformat": 4,
 "nbformat_minor": 5
}
